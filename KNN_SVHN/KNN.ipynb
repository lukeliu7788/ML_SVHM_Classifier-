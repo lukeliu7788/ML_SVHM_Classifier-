{
 "cells": [
  {
   "cell_type": "markdown",
   "metadata": {
    "colab_type": "text",
    "id": "uTkRvX81S_wg"
   },
   "source": [
    "## **PART I**\n",
    "* Install the libraies\n",
    "* Download the dataset\n",
    "* Reshape the data\n",
    "* Convert data image to grayscale image"
   ]
  },
  {
   "cell_type": "code",
   "execution_count": 0,
   "metadata": {
    "colab": {
     "autoexec": {
      "startup": false,
      "wait_interval": 0
     }
    },
    "colab_type": "code",
    "id": "efUYFZNszNz-"
   },
   "outputs": [],
   "source": [
    "!pip install prettytable\n",
    "from scipy.io import loadmat\n",
    "import psutil\n",
    "import gc # del vaires; gc.collect() \n",
    "import os\n",
    "import urllib\n",
    "import numpy as np\n",
    "import matplotlib.pyplot as plt\n",
    "from sklearn.neighbors import KNeighborsClassifier\n",
    "from sklearn.model_selection import GridSearchCV\n",
    "from time import time\n",
    "from sklearn.decomposition import IncrementalPCA\n",
    "from sklearn.model_selection import cross_validate\n",
    "from sklearn import tree\n",
    "from sklearn.metrics import confusion_matrix\n",
    "import itertools\n",
    "import matplotlib.pyplot as plt\n",
    "from prettytable import PrettyTable\n",
    "\n",
    "f_test,_ = urllib.request.urlretrieve('http://ufldl.stanford.edu/housenumbers/test_32x32.mat')\n",
    "f_train,_ = urllib.request.urlretrieve('http://ufldl.stanford.edu/housenumbers/train_32x32.mat')\n",
    "raw_data_train = loadmat(f_train)\n",
    "raw_data_test = loadmat(f_test)\n",
    "\n",
    "\n",
    "data_train_gray = (raw_data_train.get('X')[:, :, 0] * 0.30 +\n",
    "                   raw_data_train.get('X')[:, :, 1] * 0.59 +\n",
    "                   raw_data_train.get('X')[:, :, 2] * 0.11 )\n",
    "data_train_gray = np.reshape(data_train_gray, (-1,73257)).T\n",
    "\n",
    "data_test_gray = (raw_data_test.get('X')[:, :, 0] * 0.30 +\n",
    "                   raw_data_test.get('X')[:, :, 1] * 0.59 +\n",
    "                   raw_data_test.get('X')[:, :, 2] * 0.11 )\n",
    "data_test_gray = np.reshape(data_test_gray, (-1,26032)).T\n",
    "\n",
    "data_conc = np.vstack((data_train_gray, data_test_gray))\n",
    "\n",
    "label_test = raw_data_test.get('y')\n",
    "label_test = label_test.ravel()\n",
    "\n",
    "label_train = raw_data_train.get('y')\n",
    "label_train = label_train.ravel()\n",
    "\n",
    "data_train = np.hstack((np.hstack((raw_data_train.get('X')[:, :, 0],\n",
    "                                   raw_data_train.get('X')[:, :, 1])),\n",
    "                        raw_data_train.get('X')[:, :, 2]))\n",
    "data_train = np.reshape(data_train,(32*32*3,73257)).T\n",
    "\n",
    "data_test = np.hstack((np.hstack((raw_data_test.get('X')[:, :, 0],\n",
    "                                  raw_data_test.get('X')[:, :, 1])),\n",
    "                       raw_data_test.get('X')[:, :, 2]))\n",
    "data_test = np.reshape(data_test,(32*32*3,26032)).T\n",
    "\n"
   ]
  },
  {
   "cell_type": "markdown",
   "metadata": {
    "colab_type": "text",
    "id": "kRtCTcU7TgiF"
   },
   "source": [
    "##*PART II*\n",
    "\n",
    "Test the performance of convertion on grayscale image.\n",
    "Using Decision tree, 10-fold CV"
   ]
  },
  {
   "cell_type": "code",
   "execution_count": 0,
   "metadata": {
    "colab": {
     "autoexec": {
      "startup": false,
      "wait_interval": 0
     }
    },
    "colab_type": "code",
    "id": "KU2OcM69G5Pl"
   },
   "outputs": [],
   "source": [
    "nb = tree.DecisionTreeClassifier()\n",
    "cv_results = cross_validate(nb, data_train, label_train, return_train_score=False,cv=10)\n",
    "nb_gray = tree.DecisionTreeClassifier()\n",
    "cv_results_gray = cross_validate(nb_gray, data_train_gray, label_train, return_train_score=False,cv=10)"
   ]
  },
  {
   "cell_type": "markdown",
   "metadata": {
    "colab_type": "text",
    "id": "j0TizdQrTZMo"
   },
   "source": [
    "##*PART III*\n",
    "* IPCA decomposition the data into 100 - dimension"
   ]
  },
  {
   "cell_type": "code",
   "execution_count": 0,
   "metadata": {
    "colab": {
     "autoexec": {
      "startup": false,
      "wait_interval": 0
     }
    },
    "colab_type": "code",
    "id": "jzYb36PNMNMY"
   },
   "outputs": [],
   "source": [
    "pca_gray = IncrementalPCA(n_components=100, batch_size= 2000)\n",
    "pca_gray.fit(data_train_gray)\n",
    "decom_data_train_gray = pca_gray.transform(data_train_gray)\n",
    "decom_data_test_gray = pca_gray.transform(data_test_gray)\n",
    "plt.plot([i for i in range(200)],[np.sum(100 * pca_gray.explained_variance_ratio_[:i+1]) for i in range(200)] , color='blue', label='entropy')\n",
    "plt.ylabel('entropy percent/%')\n",
    "plt.xlabel('dimension')"
   ]
  },
  {
   "cell_type": "markdown",
   "metadata": {
    "colab_type": "text",
    "id": "A6ittck7WF_m"
   },
   "source": [
    "##*PART IV*\n",
    "* Use GridSearchCV to modify the parameters\n",
    "* Predict the test data through optimal parameters\n",
    "\n",
    "!Note: This part will cost a lot of time as the GridSearchCV matches the paremeters and using 10-fold CV.\n",
    "The time is about 10 hours.\n",
    "\n",
    "The result of estimator is recorded here:\n",
    "KNeighborsClassifier(algorithm='kd_tree', leaf_size=30, metric='minkowski',\n",
    "           metric_params=None, n_jobs=1, n_neighbors=15, p=2,\n",
    "           weights='distance')"
   ]
  },
  {
   "cell_type": "code",
   "execution_count": 0,
   "metadata": {
    "colab": {
     "autoexec": {
      "startup": false,
      "wait_interval": 0
     }
    },
    "colab_type": "code",
    "id": "WndP0ODj6POZ"
   },
   "outputs": [],
   "source": [
    "classifier_Knn_gray = KNeighborsClassifier()\n",
    "parameters = {'n_neighbors':[3, 5, 10, 15, 20, 25, 30],\n",
    "              'weights':['distance', 'uniform'],\n",
    "              'algorithm':['kd_tree']}\n",
    "\n",
    "modifiy = GridSearchCV(classifier_Knn_gray, parameters)\n",
    "modifiy.fit(decom_data_train_gray,label_train)"
   ]
  },
  {
   "cell_type": "markdown",
   "metadata": {
    "colab_type": "text",
    "id": "1nFJjYVbX4xE"
   },
   "source": [
    "##*PART V*\n",
    "* Pass the paramenters to the classfier, training the data and predict the test label"
   ]
  },
  {
   "cell_type": "code",
   "execution_count": 0,
   "metadata": {
    "colab": {
     "autoexec": {
      "startup": false,
      "wait_interval": 0
     }
    },
    "colab_type": "code",
    "id": "tE3qnPfuXZmd"
   },
   "outputs": [],
   "source": [
    "Knn_gray = KNeighborsClassifier(algorithm='kd_tree', leaf_size=30, metric='minkowski',\n",
    "           metric_params=None, n_jobs=1, n_neighbors=15, p=2,\n",
    "           weights='distance')\n",
    "Knn_gray.fit(decom_data_train_gray,label_train)\n",
    "result_test_gray = Knn_gray.predict(decom_data_test_gray)"
   ]
  },
  {
   "cell_type": "markdown",
   "metadata": {
    "colab_type": "text",
    "id": "0SdzyM8SYGXJ"
   },
   "source": [
    "##*PART VI*\n",
    "* Compute the confuse matrix and plot"
   ]
  },
  {
   "cell_type": "code",
   "execution_count": 0,
   "metadata": {
    "colab": {
     "autoexec": {
      "startup": false,
      "wait_interval": 0
     }
    },
    "colab_type": "code",
    "id": "wf8TcKU5auB8"
   },
   "outputs": [],
   "source": [
    "label_test[np.where(label_test == 10)] = 0\n",
    "result_test_gray[np.where(result_test_gray == 10)] = 0\n",
    "class_names = [0,1,2,3,4,5,6,7,8,9]\n",
    "\n",
    "def plot_confusion_matrix(cm, classes,\n",
    "                          normalize=False,\n",
    "                          title='Confusion matrix',\n",
    "                          cmap=plt.cm.Blues):\n",
    "    \"\"\"\n",
    "    This function prints and plots the confusion matrix.\n",
    "    Normalization can be applied by setting `normalize=True`.\n",
    "    \"\"\"\n",
    "    if normalize:\n",
    "        cm = cm.astype('float') / cm.sum(axis=1)[:, np.newaxis]\n",
    "        print(\"Normalized confusion matrix\")\n",
    "    else:\n",
    "        print('Confusion matrix, without normalization')\n",
    "\n",
    "    print(cm)\n",
    "\n",
    "    plt.imshow(cm, interpolation='nearest', cmap=cmap)\n",
    "    plt.title(title)\n",
    "    plt.colorbar()\n",
    "    tick_marks = np.arange(len(classes))\n",
    "    plt.xticks(tick_marks, classes, rotation=45)\n",
    "    plt.yticks(tick_marks, classes)\n",
    "\n",
    "    fmt = '.2f' if normalize else 'd'\n",
    "    thresh = cm.max() / 2.\n",
    "    for i, j in itertools.product(range(cm.shape[0]), range(cm.shape[1])):\n",
    "        plt.text(j, i, format(cm[i, j], fmt),\n",
    "                 horizontalalignment=\"center\",\n",
    "                 color=\"white\" if cm[i, j] > thresh else \"black\")\n",
    "\n",
    "    plt.tight_layout()\n",
    "    plt.ylabel('True label')\n",
    "    plt.xlabel('Predicted label')\n",
    "    \n",
    "# Compute confusion matrix\n",
    "cnf_matrix = confusion_matrix(label_test, result_test_gray,labels=[0,1,2,3,4,5,6,7,8,9])\n",
    "np.set_printoptions(precision=2)\n",
    "\n",
    "# Plot non-normalized confusion matrix\n",
    "plt.figure()\n",
    "plot_confusion_matrix(cnf_matrix, classes=class_names,\n",
    "                      title='Confusion matrix, without normalization')\n",
    "\n",
    "\n",
    "plt.show()"
   ]
  },
  {
   "cell_type": "markdown",
   "metadata": {
    "colab_type": "text",
    "id": "rX3ibgXEYU7h"
   },
   "source": [
    "##*PART VII*\n",
    "* Compute the value of FN, TP and draw the diagram"
   ]
  },
  {
   "cell_type": "code",
   "execution_count": 0,
   "metadata": {
    "colab": {
     "autoexec": {
      "startup": false,
      "wait_interval": 0
     }
    },
    "colab_type": "code",
    "id": "9u4kAC3df9HL"
   },
   "outputs": [],
   "source": [
    "label=np.arange(0,10)\n",
    "x = PrettyTable(['Label', 'Precision', 'recall', 'F1-score','Support'])\n",
    "for i in label:\n",
    "  TP=cnf_matrix[i,i]\n",
    "  FN = np.sum(cnf_matrix[i]) - TP\n",
    "  FP = np.sum(cnf_matrix[:, i]) - TP\n",
    "  TN = np.sum(cnf_matrix) - TP - FN - FP\n",
    "  precision =(TP / (TP + FP))\n",
    "  recall = TP / (TP + FN)\n",
    "  F_measure = TP / (2*TP + FP + FN)\n",
    "  Support= (TP + FN)\n",
    "  x.add_row([label[i],round(precision,3),round(recall,3), round(F_measure,3),round(Support,0)])\n",
    "print('Table 1. Precision,Recall,F1 and Support score for each label')\n",
    "print(x)"
   ]
  }
 ],
 "metadata": {
  "accelerator": "GPU",
  "colab": {
   "default_view": {},
   "name": "Untitled1.ipynb",
   "provenance": [],
   "version": "0.3.2",
   "views": {}
  },
  "kernelspec": {
   "display_name": "Python 3",
   "language": "python",
   "name": "python3"
  },
  "language_info": {
   "codemirror_mode": {
    "name": "ipython",
    "version": 3
   },
   "file_extension": ".py",
   "mimetype": "text/x-python",
   "name": "python",
   "nbconvert_exporter": "python",
   "pygments_lexer": "ipython3",
   "version": "3.6.5"
  }
 },
 "nbformat": 4,
 "nbformat_minor": 1
}
